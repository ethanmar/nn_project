{
 "cells": [
  {
   "cell_type": "code",
   "execution_count": 27,
   "id": "e9575438",
   "metadata": {},
   "outputs": [],
   "source": [
    "import numpy as np"
   ]
  },
  {
   "cell_type": "code",
   "execution_count": 29,
   "id": "0fa26c3a",
   "metadata": {},
   "outputs": [],
   "source": [
    "#load back the data\n",
    "dir = \"nn_training/\"\n",
    "params = []\n",
    "for i in range(8):\n",
    "    type_string = 'weights' * (i%2 == 0) + 'biases' * (i%2 == 1)\n",
    "    params.append(np.load(dir +\"nn_\" + type_string + \"_layer_\" + str(int(i/2)) + \".npy\", ))"
   ]
  },
  {
   "cell_type": "code",
   "execution_count": 30,
   "id": "2e3f5d1c",
   "metadata": {},
   "outputs": [],
   "source": [
    "#layer_sizes = np.array([784, 128, 64, 28, 10])\n",
    "layer_sizes = np.array([3, 2, 1])\n",
    "num_neurons = np.sum(layer_sizes)\n",
    "#construct the adjacency matrix\n",
    "A = np.zeros(shape = (num_neurons, num_neurons))\n",
    "\n",
    "#each of the 784 neurons is adjacent to the 128\n",
    "#each of the 128 neurons is adjacent to the 64 \n",
    "#each of the 64 neurons is adjacent to the 128 and the 28\n",
    "#each of the 28 neurons is adjacent to the 64 and the 10\n",
    "#each of the 10 neurons is adjacent to the 28\n",
    "\n",
    "offsets = np.r_[0, np.cumsum(layer_sizes)]   # e.g. [0, 784, 912, 976, 1004, 1014]\n",
    "N = offsets[-1]                               # total neurons = 1014\n",
    "\n",
    "# initialize adjacency\n",
    "A = np.zeros((N, N), dtype=int)\n",
    "\n",
    "# for each pair of consecutive layers i → i+1\n",
    "for i in range(len(layer_sizes) - 1):\n",
    "    start_i, end_i   = offsets[i],   offsets[i+1]\n",
    "    start_j, end_j   = offsets[i+1], offsets[i+2]\n",
    "    # connect all neurons in layer i to all in layer i+1\n",
    "    A[start_i:end_i, start_j:end_j] = 1\n",
    "    A[start_j:end_j, start_i:end_i] = 1  # mirror to make A symmetric\n"
   ]
  }
 ],
 "metadata": {
  "kernelspec": {
   "display_name": "base",
   "language": "python",
   "name": "python3"
  },
  "language_info": {
   "codemirror_mode": {
    "name": "ipython",
    "version": 3
   },
   "file_extension": ".py",
   "mimetype": "text/x-python",
   "name": "python",
   "nbconvert_exporter": "python",
   "pygments_lexer": "ipython3",
   "version": "3.10.9"
  }
 },
 "nbformat": 4,
 "nbformat_minor": 5
}
